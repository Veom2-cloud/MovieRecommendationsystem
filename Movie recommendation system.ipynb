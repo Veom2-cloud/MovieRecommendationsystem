{
 "cells": [
  {
   "cell_type": "markdown",
   "id": "d5b77d60",
   "metadata": {},
   "source": [
    "### importing data and ignoring warning"
   ]
  },
  {
   "cell_type": "code",
   "execution_count": 17,
   "id": "fa9b9d46",
   "metadata": {},
   "outputs": [
    {
     "name": "stdout",
     "output_type": "stream",
     "text": [
      "                Movie1  Movie2  Movie3  Movie4  Movie5  Movie6  Movie7  \\\n",
      "user_id                                                                  \n",
      "A3R5OBKS7OM2IR     5.0     5.0     NaN     NaN     NaN     NaN     NaN   \n",
      "AH3QC2PC1VTGP      NaN     NaN     2.0     NaN     NaN     NaN     NaN   \n",
      "A3LKP6WPMP9UKX     NaN     NaN     NaN     5.0     NaN     NaN     NaN   \n",
      "AVIY68KEPQ5ZD      NaN     NaN     NaN     5.0     NaN     NaN     NaN   \n",
      "A1CV1WROP5KTTW     NaN     NaN     NaN     NaN     5.0     NaN     NaN   \n",
      "...                ...     ...     ...     ...     ...     ...     ...   \n",
      "A1IMQ9WMFYKWH5     NaN     NaN     NaN     NaN     NaN     NaN     NaN   \n",
      "A1KLIKPUF5E88I     NaN     NaN     NaN     NaN     NaN     NaN     NaN   \n",
      "A5HG6WFZLO10D      NaN     NaN     NaN     NaN     NaN     NaN     NaN   \n",
      "A3UU690TWXCG1X     NaN     NaN     NaN     NaN     NaN     NaN     NaN   \n",
      "AI4J762YI6S06      NaN     NaN     NaN     NaN     NaN     NaN     NaN   \n",
      "\n",
      "                Movie8  Movie9  Movie10  ...  Movie197  Movie198  Movie199  \\\n",
      "user_id                                  ...                                 \n",
      "A3R5OBKS7OM2IR     NaN     NaN      NaN  ...       NaN       NaN       NaN   \n",
      "AH3QC2PC1VTGP      NaN     NaN      NaN  ...       NaN       NaN       NaN   \n",
      "A3LKP6WPMP9UKX     NaN     NaN      NaN  ...       NaN       NaN       NaN   \n",
      "AVIY68KEPQ5ZD      NaN     NaN      NaN  ...       NaN       NaN       NaN   \n",
      "A1CV1WROP5KTTW     NaN     NaN      NaN  ...       NaN       NaN       NaN   \n",
      "...                ...     ...      ...  ...       ...       ...       ...   \n",
      "A1IMQ9WMFYKWH5     NaN     NaN      NaN  ...       NaN       NaN       NaN   \n",
      "A1KLIKPUF5E88I     NaN     NaN      NaN  ...       NaN       NaN       NaN   \n",
      "A5HG6WFZLO10D      NaN     NaN      NaN  ...       NaN       NaN       NaN   \n",
      "A3UU690TWXCG1X     NaN     NaN      NaN  ...       NaN       NaN       NaN   \n",
      "AI4J762YI6S06      NaN     NaN      NaN  ...       NaN       NaN       NaN   \n",
      "\n",
      "                Movie200  Movie201  Movie202  Movie203  Movie204  Movie205  \\\n",
      "user_id                                                                      \n",
      "A3R5OBKS7OM2IR       NaN       NaN       NaN       NaN       NaN       NaN   \n",
      "AH3QC2PC1VTGP        NaN       NaN       NaN       NaN       NaN       NaN   \n",
      "A3LKP6WPMP9UKX       NaN       NaN       NaN       NaN       NaN       NaN   \n",
      "AVIY68KEPQ5ZD        NaN       NaN       NaN       NaN       NaN       NaN   \n",
      "A1CV1WROP5KTTW       NaN       NaN       NaN       NaN       NaN       NaN   \n",
      "...                  ...       ...       ...       ...       ...       ...   \n",
      "A1IMQ9WMFYKWH5       NaN       NaN       NaN       NaN       NaN       NaN   \n",
      "A1KLIKPUF5E88I       NaN       NaN       NaN       NaN       NaN       NaN   \n",
      "A5HG6WFZLO10D        NaN       NaN       NaN       NaN       NaN       NaN   \n",
      "A3UU690TWXCG1X       NaN       NaN       NaN       NaN       NaN       NaN   \n",
      "AI4J762YI6S06        NaN       NaN       NaN       NaN       NaN       NaN   \n",
      "\n",
      "                Movie206  \n",
      "user_id                   \n",
      "A3R5OBKS7OM2IR       NaN  \n",
      "AH3QC2PC1VTGP        NaN  \n",
      "A3LKP6WPMP9UKX       NaN  \n",
      "AVIY68KEPQ5ZD        NaN  \n",
      "A1CV1WROP5KTTW       NaN  \n",
      "...                  ...  \n",
      "A1IMQ9WMFYKWH5       5.0  \n",
      "A1KLIKPUF5E88I       5.0  \n",
      "A5HG6WFZLO10D        5.0  \n",
      "A3UU690TWXCG1X       5.0  \n",
      "AI4J762YI6S06        5.0  \n",
      "\n",
      "[4848 rows x 206 columns]\n"
     ]
    }
   ],
   "source": [
    "import pandas as pd\n",
    "import warnings\n",
    "import missingno as msno\n",
    "warnings.filterwarnings('ignore')\n",
    "import surprise\n",
    "\n",
    "\n",
    "df = pd.read_csv(r'C:\\Users\\rites\\Desktop\\movie.csv', index_col=0)\n",
    "amazon_pd = pd.DataFrame(df)\n",
    "\n",
    "print (df)"
   ]
  },
  {
   "cell_type": "markdown",
   "id": "ff3cbc3a",
   "metadata": {},
   "source": [
    "### Find the  movies have maximum views/ratings"
   ]
  },
  {
   "cell_type": "code",
   "execution_count": 18,
   "id": "17d74c59",
   "metadata": {},
   "outputs": [
    {
     "data": {
      "text/html": [
       "<div>\n",
       "<style scoped>\n",
       "    .dataframe tbody tr th:only-of-type {\n",
       "        vertical-align: middle;\n",
       "    }\n",
       "\n",
       "    .dataframe tbody tr th {\n",
       "        vertical-align: top;\n",
       "    }\n",
       "\n",
       "    .dataframe thead th {\n",
       "        text-align: right;\n",
       "    }\n",
       "</style>\n",
       "<table border=\"1\" class=\"dataframe\">\n",
       "  <thead>\n",
       "    <tr style=\"text-align: right;\">\n",
       "      <th></th>\n",
       "      <th>count</th>\n",
       "    </tr>\n",
       "  </thead>\n",
       "  <tbody>\n",
       "    <tr>\n",
       "      <th>Movie127</th>\n",
       "      <td>2313.0</td>\n",
       "    </tr>\n",
       "  </tbody>\n",
       "</table>\n",
       "</div>"
      ],
      "text/plain": [
       "           count\n",
       "Movie127  2313.0"
      ]
     },
     "execution_count": 18,
     "metadata": {},
     "output_type": "execute_result"
    }
   ],
   "source": [
    "df.describe().T['count'].sort_values(ascending=False)[:1].to_frame() "
   ]
  },
  {
   "cell_type": "markdown",
   "id": "0ca7f381",
   "metadata": {},
   "source": [
    "###  the average rating for each movie"
   ]
  },
  {
   "cell_type": "code",
   "execution_count": 19,
   "id": "ab019f91",
   "metadata": {},
   "outputs": [
    {
     "name": "stdout",
     "output_type": "stream",
     "text": [
      "Movie1      5.000000\n",
      "Movie2      5.000000\n",
      "Movie3      2.000000\n",
      "Movie4      5.000000\n",
      "Movie5      4.103448\n",
      "              ...   \n",
      "Movie202    4.333333\n",
      "Movie203    3.000000\n",
      "Movie204    4.375000\n",
      "Movie205    4.628571\n",
      "Movie206    4.923077\n",
      "Length: 206, dtype: float64\n"
     ]
    }
   ],
   "source": [
    "meanofmovies =  df.mean()\n",
    "print(meanofmovies)\n",
    "\n"
   ]
  },
  {
   "cell_type": "markdown",
   "id": "ed7a1809",
   "metadata": {},
   "source": [
    "### the top 5 movies with the maximum ratings."
   ]
  },
  {
   "cell_type": "code",
   "execution_count": 20,
   "id": "1ab3ca66",
   "metadata": {},
   "outputs": [
    {
     "data": {
      "text/html": [
       "<div>\n",
       "<style scoped>\n",
       "    .dataframe tbody tr th:only-of-type {\n",
       "        vertical-align: middle;\n",
       "    }\n",
       "\n",
       "    .dataframe tbody tr th {\n",
       "        vertical-align: top;\n",
       "    }\n",
       "\n",
       "    .dataframe thead th {\n",
       "        text-align: right;\n",
       "    }\n",
       "</style>\n",
       "<table border=\"1\" class=\"dataframe\">\n",
       "  <thead>\n",
       "    <tr style=\"text-align: right;\">\n",
       "      <th></th>\n",
       "      <th>count</th>\n",
       "    </tr>\n",
       "  </thead>\n",
       "  <tbody>\n",
       "    <tr>\n",
       "      <th>Movie127</th>\n",
       "      <td>2313.0</td>\n",
       "    </tr>\n",
       "    <tr>\n",
       "      <th>Movie140</th>\n",
       "      <td>578.0</td>\n",
       "    </tr>\n",
       "    <tr>\n",
       "      <th>Movie16</th>\n",
       "      <td>320.0</td>\n",
       "    </tr>\n",
       "    <tr>\n",
       "      <th>Movie103</th>\n",
       "      <td>272.0</td>\n",
       "    </tr>\n",
       "    <tr>\n",
       "      <th>Movie29</th>\n",
       "      <td>243.0</td>\n",
       "    </tr>\n",
       "  </tbody>\n",
       "</table>\n",
       "</div>"
      ],
      "text/plain": [
       "           count\n",
       "Movie127  2313.0\n",
       "Movie140   578.0\n",
       "Movie16    320.0\n",
       "Movie103   272.0\n",
       "Movie29    243.0"
      ]
     },
     "execution_count": 20,
     "metadata": {},
     "output_type": "execute_result"
    }
   ],
   "source": [
    "df.describe().T['count'].sort_values(ascending=False)[:5].to_frame()"
   ]
  },
  {
   "cell_type": "markdown",
   "id": "1980b2a0",
   "metadata": {},
   "source": [
    "### the top 5 movies with the least audience."
   ]
  },
  {
   "cell_type": "code",
   "execution_count": 21,
   "id": "4ba08303",
   "metadata": {},
   "outputs": [
    {
     "data": {
      "text/html": [
       "<div>\n",
       "<style scoped>\n",
       "    .dataframe tbody tr th:only-of-type {\n",
       "        vertical-align: middle;\n",
       "    }\n",
       "\n",
       "    .dataframe tbody tr th {\n",
       "        vertical-align: top;\n",
       "    }\n",
       "\n",
       "    .dataframe thead th {\n",
       "        text-align: right;\n",
       "    }\n",
       "</style>\n",
       "<table border=\"1\" class=\"dataframe\">\n",
       "  <thead>\n",
       "    <tr style=\"text-align: right;\">\n",
       "      <th></th>\n",
       "      <th>count</th>\n",
       "    </tr>\n",
       "  </thead>\n",
       "  <tbody>\n",
       "    <tr>\n",
       "      <th>Movie1</th>\n",
       "      <td>1.0</td>\n",
       "    </tr>\n",
       "    <tr>\n",
       "      <th>Movie71</th>\n",
       "      <td>1.0</td>\n",
       "    </tr>\n",
       "    <tr>\n",
       "      <th>Movie145</th>\n",
       "      <td>1.0</td>\n",
       "    </tr>\n",
       "    <tr>\n",
       "      <th>Movie69</th>\n",
       "      <td>1.0</td>\n",
       "    </tr>\n",
       "    <tr>\n",
       "      <th>Movie68</th>\n",
       "      <td>1.0</td>\n",
       "    </tr>\n",
       "  </tbody>\n",
       "</table>\n",
       "</div>"
      ],
      "text/plain": [
       "          count\n",
       "Movie1      1.0\n",
       "Movie71     1.0\n",
       "Movie145    1.0\n",
       "Movie69     1.0\n",
       "Movie68     1.0"
      ]
     },
     "execution_count": 21,
     "metadata": {},
     "output_type": "execute_result"
    }
   ],
   "source": [
    "df.describe().T['count'].sort_values(ascending=True)[:5].to_frame()"
   ]
  },
  {
   "cell_type": "markdown",
   "id": "6ec5cfba",
   "metadata": {},
   "source": [
    "## Recommendation Model"
   ]
  },
  {
   "cell_type": "code",
   "execution_count": 22,
   "id": "0bb40443",
   "metadata": {},
   "outputs": [
    {
     "data": {
      "text/plain": [
       "(993840, 3)"
      ]
     },
     "execution_count": 22,
     "metadata": {},
     "output_type": "execute_result"
    }
   ],
   "source": [
    "melt_df=amazon_pd.melt(id_vars= df.columns[0],value_vars=df.columns[1:],var_name='Movie',value_name='rating')\n",
    "melt_df\n",
    "melt_df.shape\n",
    "melt_filtered = melt_df.fillna(0)\n",
    "melt_filtered.shape"
   ]
  },
  {
   "cell_type": "markdown",
   "id": "1024585c",
   "metadata": {},
   "source": [
    "### importing modules"
   ]
  },
  {
   "cell_type": "code",
   "execution_count": 23,
   "id": "483915ee",
   "metadata": {},
   "outputs": [],
   "source": [
    "from surprise import Reader\n",
    "from surprise import Dataset\n",
    "from surprise import SVD\n",
    "from surprise.model_selection import train_test_split"
   ]
  },
  {
   "cell_type": "code",
   "execution_count": 24,
   "id": "a2852ac3",
   "metadata": {},
   "outputs": [],
   "source": [
    "reader = Reader(rating_scale=(-1,10))\n",
    "\n",
    "\n",
    "data = Dataset.load_from_df(melt_df.fillna(0), reader=reader)"
   ]
  },
  {
   "cell_type": "markdown",
   "id": "8676c20c",
   "metadata": {},
   "source": [
    "###  spliting the data into trainging and testing data"
   ]
  },
  {
   "cell_type": "code",
   "execution_count": 25,
   "id": "32236072",
   "metadata": {},
   "outputs": [],
   "source": [
    "trainset, testset = train_test_split(data, test_size=0.25)\n"
   ]
  },
  {
   "cell_type": "code",
   "execution_count": 26,
   "id": "f9105ae0",
   "metadata": {},
   "outputs": [],
   "source": [
    "algo = SVD()\n"
   ]
  },
  {
   "cell_type": "markdown",
   "id": "a9a422e2",
   "metadata": {},
   "source": [
    "### trainging data"
   ]
  },
  {
   "cell_type": "code",
   "execution_count": 27,
   "id": "85b1ee66",
   "metadata": {},
   "outputs": [],
   "source": [
    "algo.fit(trainset)\n",
    "predict= algo.test(testset)\n",
    "from surprise.model_selection import cross_validate\n"
   ]
  },
  {
   "cell_type": "code",
   "execution_count": 28,
   "id": "6679a912",
   "metadata": {},
   "outputs": [
    {
     "name": "stdout",
     "output_type": "stream",
     "text": [
      "Evaluating RMSE, MAE of algorithm SVD on 3 split(s).\n",
      "\n",
      "                  Fold 1  Fold 2  Fold 3  Mean    Std     \n",
      "RMSE (testset)    0.2884  0.2897  0.2865  0.2882  0.0013  \n",
      "MAE (testset)     0.0530  0.0533  0.0657  0.0573  0.0059  \n",
      "Fit time          57.60   57.83   51.74   55.72   2.82    \n",
      "Test time         5.61    3.78    5.50    4.96    0.84    \n"
     ]
    },
    {
     "data": {
      "text/plain": [
       "{'test_rmse': array([0.2884086 , 0.28970391, 0.28650146]),\n",
       " 'test_mae': array([0.05299543, 0.05331111, 0.06568378]),\n",
       " 'fit_time': (57.60161852836609, 57.834373235702515, 51.73889517784119),\n",
       " 'test_time': (5.606424331665039, 3.7812867164611816, 5.496415376663208)}"
      ]
     },
     "execution_count": 28,
     "metadata": {},
     "output_type": "execute_result"
    }
   ],
   "source": [
    "cross_validate(algo,data,measures=['RMSE','MAE'],cv=3,verbose=True)\n"
   ]
  },
  {
   "cell_type": "markdown",
   "id": "4cdba850",
   "metadata": {},
   "source": [
    "### test data"
   ]
  },
  {
   "cell_type": "code",
   "execution_count": 29,
   "id": "a596d654",
   "metadata": {},
   "outputs": [
    {
     "name": "stdout",
     "output_type": "stream",
     "text": [
      "Evaluating RMSE, MAE of algorithm SVD on 3 split(s).\n",
      "\n",
      "                  Fold 1  Fold 2  Fold 3  Mean    Std     \n",
      "RMSE (testset)    0.2861  0.2873  0.2930  0.2888  0.0030  \n",
      "MAE (testset)     0.0583  0.0584  0.0740  0.0635  0.0074  \n",
      "Fit time          56.52   52.41   52.92   53.95   1.83    \n",
      "Test time         5.24    5.20    5.07    5.17    0.07    \n",
      "{'test_rmse': array([0.2861241 , 0.28727777, 0.29298239]), 'test_mae': array([0.05826531, 0.05839247, 0.07395605]), 'fit_time': (56.51727843284607, 52.409945011138916, 52.91700601577759), 'test_time': (5.241396903991699, 5.199415683746338, 5.073383092880249)}\n"
     ]
    }
   ],
   "source": [
    "user_id='A1CV1WROP5KTTW'\n",
    "Movie='Movie6'\n",
    "rating='5'\n",
    "algo.predict(user_id,Movie,r_ui=rating)\n",
    "print(cross_validate(algo,data,measures=['RMSE','MAE'],cv=3,verbose=True))"
   ]
  },
  {
   "cell_type": "code",
   "execution_count": 30,
   "id": "06ff6376",
   "metadata": {},
   "outputs": [
    {
     "name": "stdout",
     "output_type": "stream",
     "text": [
      "Evaluating RMSE, MAE of algorithm SVD on 3 split(s).\n",
      "\n",
      "                  Fold 1  Fold 2  Fold 3  Mean    Std     \n",
      "RMSE (testset)    0.2863  0.2868  0.2886  0.2872  0.0010  \n",
      "MAE (testset)     0.0365  0.0365  0.0389  0.0373  0.0011  \n",
      "Fit time          58.62   61.74   59.78   60.05   1.29    \n",
      "Test time         6.10    5.37    5.11    5.52    0.42    \n",
      "{'test_rmse': array([0.28631197, 0.28684857, 0.28856516]), 'test_mae': array([0.03645654, 0.03649777, 0.03889941]), 'fit_time': (58.62146067619324, 61.73901391029358, 59.78350067138672), 'test_time': (6.10045313835144, 5.365470886230469, 5.105409860610962)}\n"
     ]
    }
   ],
   "source": [
    "user_id='A1CV1WROP5KTTW'\n",
    "Movie='Movie3'\n",
    "rating='5'\n",
    "algo.predict(user_id,Movie,r_ui=rating)\n",
    "print(cross_validate(algo,data,measures=['RMSE','MAE'],cv=3,verbose=True))"
   ]
  }
 ],
 "metadata": {
  "kernelspec": {
   "display_name": "Python 3",
   "language": "python",
   "name": "python3"
  },
  "language_info": {
   "codemirror_mode": {
    "name": "ipython",
    "version": 3
   },
   "file_extension": ".py",
   "mimetype": "text/x-python",
   "name": "python",
   "nbconvert_exporter": "python",
   "pygments_lexer": "ipython3",
   "version": "3.8.8"
  }
 },
 "nbformat": 4,
 "nbformat_minor": 5
}
